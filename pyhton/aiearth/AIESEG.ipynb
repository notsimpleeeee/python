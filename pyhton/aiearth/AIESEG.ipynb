{
 "cells": [
  {
   "cell_type": "code",
   "execution_count": 1,
   "id": "a2e04813-2dbb-4a42-92aa-9b43cc19839a",
   "metadata": {},
   "outputs": [
    {
     "name": "stdout",
     "output_type": "stream",
     "text": [
      "计算资源初始化中，请等待...\n",
      "计算资源初始化完成.\n",
      "ChangGuang_JL1_China_2022\n",
      "295e1d878ca3757298a76715e73136a3\n",
      "36691697687389149223377\n",
      "181295\n"
     ]
    }
   ],
   "source": [
    "import os\n",
    "import tempfile\n",
    "import aie\n",
    "import requests\n",
    "\n",
    "from aiearth.openapi.example import load_image_example\n",
    "from aiearth.openapi.utils import read_from_url\n",
    "from time import sleep\n",
    "from aiearth.openapi.models import ListUserRasterDatasRequest, PublishLocalTiffRequest,ListUserMapServiceDatasRequest,ListUserVectorDatasRequest\n",
    "from aiearth.openapi.enums import PublishStatus, AiesegJobType\n",
    "from aiearth.openapi.models import GetAiesegVisualPromptRequest, \\\n",
    "    GenerateAieSegVisualPromptRequest, PublishAiesegVisualPromptRequest, CreateAiesegJobRequest, RasterParam,MapServiceParam\n",
    "from aiearth.openapi import build_client\n",
    "aie.Authenticate(access_key_id=\"LTAI5tP53QyofRgfxZi1vyon\", access_key_secret=\"cXP5uxZO4ZabxA9bYo6gy40CfiULeH\")\n",
    "aie.Initialize()\n",
    "client = build_client('LTAI5tP53QyofRgfxZi1vyon', 'cXP5uxZO4ZabxA9bYo6gy40CfiULeH')\n",
    "#获取栅格\n",
    "# name = 'published_by_openapi'\n",
    "# get_user_raster_request = ListUserRasterDatasRequest(from_type='personal', name=name, page_number=1, page_size=1)\n",
    "# get_user_raster_resp = client.list_user_raster_datas(get_user_raster_request)\n",
    "# raster_data_id = None\n",
    "# if len(get_user_raster_resp.body.list) > 0:\n",
    "#     raster_data_id = get_user_raster_resp.body.list[0].data_id\n",
    "# else:\n",
    "#     raise ValueError(\"false\")\n",
    "\n",
    "\n",
    "def AIESEG(Map_Name,Shp_Name,Prompt_Name,Job_Name,Pixel_Threshold):\n",
    "    #获取mapserviceID\n",
    "    listusermapservicedatasrequest = ListUserMapServiceDatasRequest(name=Map_Name,page_number=1,page_size=8)\n",
    "    listusermapservicedatasresp = client.list_user_map_service_datas(listusermapservicedatasrequest)\n",
    "    data_id=listusermapservicedatasresp.body.list[0].data_id\n",
    "    print(data_id)\n",
    "\n",
    "    ## 获取map参数\n",
    "    mapserviceparam :MapServiceParam = MapServiceParam(data_id=data_id,zoom_level=18)\n",
    "    \n",
    "    #获取shpID\n",
    "    request = ListUserVectorDatasRequest(from_type='personal',name=Shp_Name, page_number=1, page_size=1)\n",
    "    create_list_resp = client.list_user_vector_datas(request)\n",
    "    shp_id=create_list_resp.body.list[0].data_id\n",
    "    print(shp_id)\n",
    "\n",
    "    #获取图形提示ID\n",
    "    get_aieseg_prompt_request = GetAiesegVisualPromptRequest(name_like=Prompt_Name)\n",
    "    get_aieseg_prompt_resp = client.get_aieseg_visual_prompt(get_aieseg_prompt_request)\n",
    "    if len(get_aieseg_prompt_resp.body.list) > 0:\n",
    "            prompt_id = get_aieseg_prompt_resp.body.list[0].prompt_id  #h获取id\n",
    "    print( prompt_id)\n",
    "\n",
    "    type = 1\n",
    "    ##开始解译\n",
    "    if type == 1:\n",
    "           #创建任务   \n",
    "        create_aieseg_request = CreateAiesegJobRequest(aieseg_job_type=AiesegJobType.AIE_SEG_PROMPT, input=mapserviceparam,\n",
    "                                                       job_name=Job_Name,filter_shape_data_id=shp_id,\n",
    "                                                       pixel_threshold=Pixel_Threshold,\n",
    "                                                       visual_prompt_id=prompt_id)\n",
    "    else:\n",
    "        raise ValueError(\"False\")\n",
    "\n",
    "    #提交任务\n",
    "    create_aieseg_resp = client.create_aieseg_job(create_aieseg_request)\n",
    "    return create_aieseg_resp.body.jobs[0].job_id\n",
    "\n",
    "if __name__ == \"__main__\":\n",
    "    data=AIESEG('test258','shp4','test1','test343',50)\n",
    "    print(data)"
   ]
  },
  {
   "cell_type": "code",
   "execution_count": null,
   "id": "406a47ad-809f-4416-88c0-98432632f662",
   "metadata": {},
   "outputs": [],
   "source": []
  },
  {
   "cell_type": "code",
   "execution_count": null,
   "id": "ad5eda30-87b1-433b-92d6-b4680c60850f",
   "metadata": {},
   "outputs": [],
   "source": []
  }
 ],
 "metadata": {
  "kernelspec": {
   "display_name": "Python 3 (ipykernel)",
   "language": "python",
   "name": "python3"
  },
  "language_info": {
   "codemirror_mode": {
    "name": "ipython",
    "version": 3
   },
   "file_extension": ".py",
   "mimetype": "text/x-python",
   "name": "python",
   "nbconvert_exporter": "python",
   "pygments_lexer": "ipython3",
   "version": "3.11.5"
  }
 },
 "nbformat": 4,
 "nbformat_minor": 5
}
