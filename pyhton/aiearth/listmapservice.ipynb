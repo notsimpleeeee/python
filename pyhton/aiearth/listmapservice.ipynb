{
 "cells": [
  {
   "cell_type": "code",
   "execution_count": 1,
   "id": "7ce6e0da-56c5-49bc-88b8-60d2fc1cb646",
   "metadata": {},
   "outputs": [
    {
     "name": "stdout",
     "output_type": "stream",
     "text": [
      "计算资源初始化中，请等待...\n",
      "计算资源初始化完成.\n",
      "ChangGuang_JL1_China_2022\n"
     ]
    }
   ],
   "source": [
    "import os\n",
    "import tempfile\n",
    "import aie\n",
    "import requests\n",
    "\n",
    "from aiearth.openapi.example import load_image_example\n",
    "from aiearth.openapi.utils import read_from_url\n",
    "from time import sleep\n",
    "from aiearth.openapi.models import ListUserRasterDatasRequest, PublishLocalTiffRequest,ListUserMapServiceDatasRequest,ListUserVectorDatasRequest\n",
    "from aiearth.openapi.enums import PublishStatus, AiesegJobType\n",
    "from aiearth.openapi.models import GetAiesegVisualPromptRequest, \\\n",
    "    GenerateAieSegVisualPromptRequest, PublishAiesegVisualPromptRequest, CreateAiesegJobRequest, RasterParam,MapServiceParam\n",
    "from aiearth.openapi import build_client\n",
    "aie.Authenticate(access_key_id=\"LTAI5tP53QyofRgfxZi1vyon\", access_key_secret=\"cXP5uxZO4ZabxA9bYo6gy40CfiULeH\")\n",
    "aie.Initialize()\n",
    "client = build_client('LTAI5tP53QyofRgfxZi1vyon', 'cXP5uxZO4ZabxA9bYo6gy40CfiULeH')\n",
    "listusermapservicedatasrequest = ListUserMapServiceDatasRequest(name='test258',page_number=1,page_size=8)\n",
    "listusermapservicedatasresp = client.list_user_map_service_datas(listusermapservicedatasrequest)\n",
    "data_id=listusermapservicedatasresp.body.list[0].data_id\n",
    "print(data_id)\n"
   ]
  },
  {
   "cell_type": "code",
   "execution_count": null,
   "id": "0f992ea6-fd3a-4157-9edf-4cedf45b0cd2",
   "metadata": {},
   "outputs": [],
   "source": []
  }
 ],
 "metadata": {
  "kernelspec": {
   "display_name": "Python 3 (ipykernel)",
   "language": "python",
   "name": "python3"
  },
  "language_info": {
   "codemirror_mode": {
    "name": "ipython",
    "version": 3
   },
   "file_extension": ".py",
   "mimetype": "text/x-python",
   "name": "python",
   "nbconvert_exporter": "python",
   "pygments_lexer": "ipython3",
   "version": "3.11.5"
  }
 },
 "nbformat": 4,
 "nbformat_minor": 5
}
