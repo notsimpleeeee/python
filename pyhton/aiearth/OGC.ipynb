{
 "cells": [
  {
   "cell_type": "code",
   "execution_count": 1,
   "id": "c17170e9-7b39-4b86-a92a-b09f1c4c8ca5",
   "metadata": {},
   "outputs": [
    {
     "name": "stdout",
     "output_type": "stream",
     "text": [
      "计算资源初始化中，请等待...\n",
      "计算资源初始化完成.\n",
      "56dc37bd93c68558f3716855104402ec\n"
     ]
    }
   ],
   "source": [
    "import time\n",
    "import requests\n",
    "import aie\n",
    "from aiearth.openapi import build_client\n",
    "from aiearth.openapi.enums import *\n",
    "from aiearth.openapi.models import *\n",
    "aie.Authenticate(access_key_id=\"LTAI5tP53QyofRgfxZi1vyon\", access_key_secret=\"cXP5uxZO4ZabxA9bYo6gy40CfiULeH\")\n",
    "aie.Initialize()\n",
    "client = build_client('LTAI5tP53QyofRgfxZi1vyon', 'cXP5uxZO4ZabxA9bYo6gy40CfiULeH')\n",
    "\n",
    "def publish_map_service(name: str, map_service_address: str) -> str:\n",
    "    publish_map_service: PublishMapserviceRequest = PublishMapserviceRequest()\n",
    "    publish_map_service.name = name\n",
    "    publish_map_service.address = map_service_address\n",
    "    publish_map_service.zoom_level_max = 20\n",
    "    publish_map_service.zoom_level_min = 1\n",
    "    publish_map_service.projection_type = MapServiceProjectionType.MERCATOR.value\n",
    "\n",
    "    publish_map_service_resp: PublishMapserviceResponse = client.publish_mapservice(publish_map_service)\n",
    "    # 地图服务发布后立即成功，无需查询发布状态\n",
    "    return publish_map_service_resp.body.data_id\n",
    "\n",
    "if __name__ == \"__main__\":\n",
    "\n",
    "    data_id = publish_map_service(\"test110103\", \"https://swapi.siweiearth.com/sj_raster/v6/wmts/image_tile_m/system/12615038401/0?ak=mt93f707148716b026c6b0fd0e066b585a&srs=EPSG:3857&product_id=101&Service=WMTS&Request=GetTile&Version=1.0.0&Format=image%2Fpng&TileMatrix={z}&TileCol={x}&TileRow={y}\")\n",
    "    print(data_id)"
   ]
  },
  {
   "cell_type": "code",
   "execution_count": null,
   "id": "1e9a7d0f-a277-474b-8692-2f54ae9518e1",
   "metadata": {},
   "outputs": [],
   "source": []
  }
 ],
 "metadata": {
  "kernelspec": {
   "display_name": "Python 3 (ipykernel)",
   "language": "python",
   "name": "python3"
  },
  "language_info": {
   "codemirror_mode": {
    "name": "ipython",
    "version": 3
   },
   "file_extension": ".py",
   "mimetype": "text/x-python",
   "name": "python",
   "nbconvert_exporter": "python",
   "pygments_lexer": "ipython3",
   "version": "3.11.5"
  }
 },
 "nbformat": 4,
 "nbformat_minor": 5
}
