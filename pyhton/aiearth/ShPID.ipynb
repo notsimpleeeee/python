{
 "cells": [
  {
   "cell_type": "code",
   "execution_count": 1,
   "id": "1d1760c4-4b9a-4320-a722-9495ea5a67df",
   "metadata": {},
   "outputs": [
    {
     "name": "stdout",
     "output_type": "stream",
     "text": [
      "计算资源初始化中，请等待...\n",
      "计算资源初始化完成.\n",
      "295e1d878ca3757298a76715e73136a3\n"
     ]
    }
   ],
   "source": [
    "import aie\n",
    "from aiearth.openapi import build_client\n",
    "from aiearth.openapi.models import ListUserVectorDatasRequest\n",
    "import inspect\n",
    "\n",
    "aie.Authenticate(access_key_id=\"LTAI5tP53QyofRgfxZi1vyon\", access_key_secret=\"cXP5uxZO4ZabxA9bYo6gy40CfiULeH\")\n",
    "aie.Initialize()\n",
    "client = build_client('LTAI5tP53QyofRgfxZi1vyon', 'cXP5uxZO4ZabxA9bYo6gy40CfiULeH')\n",
    "request = ListUserVectorDatasRequest(from_type='personal',name='shp4', page_number=1, page_size=1)\n",
    "create_list_resp = client.list_user_vector_datas(request)\n",
    "data_id=create_list_resp.body.list[0].data_id\n",
    "print(data_id)"
   ]
  },
  {
   "cell_type": "code",
   "execution_count": 2,
   "id": "983baf97-c04c-4b06-9599-4a3dd75f0929",
   "metadata": {},
   "outputs": [
    {
     "name": "stdout",
     "output_type": "stream",
     "text": [
      "Name: alibabacloud-aiearth-engine20220609\n",
      "Version: 1.0.6\n",
      "Summary: Alibaba Cloud AIEarth-Engine (20220609) SDK Library for Python\n",
      "Home-page: https://github.com/aliyun/alibabacloud-python-sdk\n",
      "Author: Alibaba Cloud SDK\n",
      "Author-email: sdk-team@alibabacloud.com\n",
      "License: Apache License 2.0\n",
      "Location: C:\\Users\\86135\\anaconda3\\envs\\aie-sdk\\Lib\\site-packages\n",
      "Requires: alibabacloud-endpoint-util, alibabacloud-openapi-util, alibabacloud-tea-openapi, alibabacloud-tea-util\n",
      "Required-by: aiearth-core, aiearth-openapi\n"
     ]
    }
   ],
   "source": []
  },
  {
   "cell_type": "code",
   "execution_count": null,
   "id": "1f4b7087-c4b8-4130-add4-11b0130e42e8",
   "metadata": {},
   "outputs": [],
   "source": []
  }
 ],
 "metadata": {
  "kernelspec": {
   "display_name": "Python 3 (ipykernel)",
   "language": "python",
   "name": "python3"
  },
  "language_info": {
   "codemirror_mode": {
    "name": "ipython",
    "version": 3
   },
   "file_extension": ".py",
   "mimetype": "text/x-python",
   "name": "python",
   "nbconvert_exporter": "python",
   "pygments_lexer": "ipython3",
   "version": "3.11.5"
  }
 },
 "nbformat": 4,
 "nbformat_minor": 5
}
