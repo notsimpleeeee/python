{
 "cells": [
  {
   "cell_type": "code",
   "execution_count": 9,
   "id": "363c6449-dcd9-4618-acfb-5102bde272bd",
   "metadata": {},
   "outputs": [
    {
     "name": "stdout",
     "output_type": "stream",
     "text": [
      "计算资源初始化中，请等待...\n",
      "计算资源初始化完成.\n",
      "{'headers': {'date': 'Tue, 31 Oct 2023 03:08:38 GMT', 'content-type': 'application/json;charset=utf-8', 'content-length': '225', 'connection': 'keep-alive', 'keep-alive': 'timeout=25', 'access-control-allow-origin': '*', 'access-control-expose-headers': '*', 'x-acs-request-id': 'E045F232-A770-5F82-B89D-0607BF4CA6F0', 'x-acs-trace-id': '77b94bd4e9a030cc7114d59b6497bafa', 'etag': '27epuAqhpSEbHUQqeiT1TMg5'}, 'statusCode': 200, 'body': {'List': [{'App': 'aie_seg_prompt', 'JobId': 190614, 'JobName': 'test10312', 'JobType': 1, 'OutDataType': 1, 'OutDateType': 1, 'Progress': '10.00%', 'Status': 3, 'SubmitDate': 1698719624477}], 'RequestId': 'E045F232-A770-5F82-B89D-0607BF4CA6F0'}}\n"
     ]
    }
   ],
   "source": [
    "import os\n",
    "import tempfile\n",
    "import aie\n",
    "import requests\n",
    "\n",
    "from aiearth.openapi.example import load_image_example\n",
    "from aiearth.openapi.utils import read_from_url\n",
    "from time import sleep\n",
    "from aiearth.openapi.models import ListUserRasterDatasRequest, PublishLocalTiffRequest,ListUserMapServiceDatasRequest,ListUserVectorDatasRequest,GetJobsRequest\n",
    "from aiearth.openapi.enums import PublishStatus, AiesegJobType\n",
    "from aiearth.openapi.models import GetAiesegVisualPromptRequest, \\\n",
    "    GenerateAieSegVisualPromptRequest, PublishAiesegVisualPromptRequest, CreateAiesegJobRequest, RasterParam,MapServiceParam\n",
    "from aiearth.openapi import build_client\n",
    "def show_progress(name):\n",
    "    aie.Authenticate(access_key_id=\"LTAI5tP53QyofRgfxZi1vyon\", access_key_secret=\"cXP5uxZO4ZabxA9bYo6gy40CfiULeH\")\n",
    "    aie.Initialize()\n",
    "    client = build_client('LTAI5tP53QyofRgfxZi1vyon', 'cXP5uxZO4ZabxA9bYo6gy40CfiULeH')\n",
    "    getjobsrequest=GetJobsRequest(name_like=name)\n",
    "    data = client.get_jobs(getjobsrequest)\n",
    "    return data\n",
    "    \n",
    "if __name__ == \"__main__\":\n",
    "    data=show_progress(\"test10312\")\n",
    "    print(data)"
   ]
  },
  {
   "cell_type": "code",
   "execution_count": null,
   "id": "6d2ea14e-5efa-4fbd-be21-50176b16394c",
   "metadata": {},
   "outputs": [],
   "source": []
  },
  {
   "cell_type": "code",
   "execution_count": null,
   "id": "afff873c-4371-4ba3-90cb-347d5f0ab7e6",
   "metadata": {},
   "outputs": [],
   "source": []
  },
  {
   "cell_type": "code",
   "execution_count": null,
   "id": "ff9cb9ad-d142-466a-96f0-4deacaa831b3",
   "metadata": {},
   "outputs": [],
   "source": []
  }
 ],
 "metadata": {
  "kernelspec": {
   "display_name": "Python 3 (ipykernel)",
   "language": "python",
   "name": "python3"
  },
  "language_info": {
   "codemirror_mode": {
    "name": "ipython",
    "version": 3
   },
   "file_extension": ".py",
   "mimetype": "text/x-python",
   "name": "python",
   "nbconvert_exporter": "python",
   "pygments_lexer": "ipython3",
   "version": "3.11.5"
  }
 },
 "nbformat": 4,
 "nbformat_minor": 5
}
